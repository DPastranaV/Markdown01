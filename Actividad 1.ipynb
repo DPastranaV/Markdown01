{
 "cells": [
  {
   "cell_type": "markdown",
   "id": "5aba1362",
   "metadata": {},
   "source": [
    "# Presentación\n",
    "## Daniel Pastrana Vargas\n",
    "\n",
    "Soy estudiante de la carrera de **Ingeniería Financiera** y estoy empezando mi *quinto* semestre.\n",
    "\n",
    "Me gustan mucho los deportes y la música en general.\n",
    "Mis deportes favoritos en orden son:\n",
    "1. Fútbol\n",
    "2. Básquetbol\n",
    "3. Fútbol Americano\n",
    "\n",
    "Las materias de mi carrera que más me han llamado la atención son:\n",
    "- Ingeniería Financiera\n",
    "- Derecho Mercantil\n",
    "- Economía Monetaria\n",
    "\n",
    "Un tema fundamental de mi carrera es el uso de opciones financieras, que según BBVA son instrumentos financieros que otorgan al comprador el derecho y al vendedor la obligación de realizar la transacción a un precio fijado y en una fecha determinada.\n",
    "\n",
    "Una fórmula financiera básica es la del interés simple.\n",
    "\n",
    "$ VF = P(1 + ni) $\n",
    "\n",
    "Donde,\n",
    "\n",
    "VF = Valor final\n",
    "\n",
    "P = Valor presente\n",
    "\n",
    "n = plazo\n",
    "\n",
    "i = Tasa de interés\n",
    "\n",
    "![](https://www.lawstyle.es/wp-content/uploads/2020/02/la-bolsa-de-valores.jpg)\n",
    "\n",
    "### Bibliografía\n",
    "(2018, 24 mayo). ¿Qué son las opciones financieras? BBVA NOTICIAS. https://www.bbva.com/es/que-son-las-opciones-financieras/\n"
   ]
  }
 ],
 "metadata": {
  "kernelspec": {
   "display_name": "Python 3 (ipykernel)",
   "language": "python",
   "name": "python3"
  },
  "language_info": {
   "codemirror_mode": {
    "name": "ipython",
    "version": 3
   },
   "file_extension": ".py",
   "mimetype": "text/x-python",
   "name": "python",
   "nbconvert_exporter": "python",
   "pygments_lexer": "ipython3",
   "version": "3.9.12"
  }
 },
 "nbformat": 4,
 "nbformat_minor": 5
}
